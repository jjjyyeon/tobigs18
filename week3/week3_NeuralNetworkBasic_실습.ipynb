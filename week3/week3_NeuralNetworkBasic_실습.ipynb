{
 "cells": [
  {
   "cell_type": "markdown",
   "metadata": {},
   "source": [
    "> # Neural Network Basic - Week3 과제\n"
   ]
  },
  {
   "cell_type": "markdown",
   "metadata": {},
   "source": [
    "## Import Library"
   ]
  },
  {
   "cell_type": "code",
   "execution_count": 1,
   "metadata": {},
   "outputs": [],
   "source": [
    "import numpy as np\n",
    "from matplotlib import pyplot as plt\n",
    "from dataset.mnist import load_mnist"
   ]
  },
  {
   "cell_type": "markdown",
   "metadata": {},
   "source": [
    "## Load Dataset\n",
    "- MNIST "
   ]
  },
  {
   "cell_type": "code",
   "execution_count": 2,
   "metadata": {},
   "outputs": [],
   "source": [
    "(X_train, Y_train), (X_test, Y_test) = \\\n",
    "    load_mnist(normalize=True, one_hot_label=False)"
   ]
  },
  {
   "cell_type": "code",
   "execution_count": 3,
   "metadata": {},
   "outputs": [
    {
     "name": "stdout",
     "output_type": "stream",
     "text": [
      "X_train shape: (60000, 784)\n",
      "X_test shape: (10000, 784)\n",
      "Y_train shape: (60000,)\n",
      "Y_train shape: (10000,)\n"
     ]
    }
   ],
   "source": [
    "print(f'X_train shape: {X_train.shape}')\n",
    "print(f'X_test shape: {X_test.shape}')\n",
    "print(f'Y_train shape: {Y_train.shape}')\n",
    "print(f'Y_train shape: {Y_test.shape}')"
   ]
  },
  {
   "cell_type": "markdown",
   "metadata": {},
   "source": [
    "## Activation Function \n",
    "- sigmoid & relu : hidden layer activation function \n",
    "- softmax : output layer activation function "
   ]
  },
  {
   "cell_type": "code",
   "execution_count": 4,
   "metadata": {},
   "outputs": [],
   "source": [
    "class sigmoid:\n",
    "    # sigmoid 함수를 작성하세요 \n",
    "    def forward(x):\n",
    "        return  1 / (1+np.exp(-x))\n",
    "    \n",
    "    # sigmoid 함수의 미분을 작성하세요\n",
    "    def backward(x):\n",
    "        return x * (1 - x)"
   ]
  },
  {
   "cell_type": "code",
   "execution_count": 5,
   "metadata": {},
   "outputs": [],
   "source": [
    "class relu:\n",
    "    # relu 함수를 작성하세요\n",
    "    def forward(x):\n",
    "        return np.maximum(0, x) \n",
    "    \n",
    "    # relu 함수의 미분을 작성하세요\n",
    "    def backward(x):\n",
    "        return np.where(x > 0, 1, 0)"
   ]
  },
  {
   "cell_type": "code",
   "execution_count": 6,
   "metadata": {},
   "outputs": [],
   "source": [
    "class softmax:\n",
    "    def forward(z):\n",
    "        y = []\n",
    "        for zi in z:\n",
    "            c = np.max(zi)\n",
    "            exp_zi = np.exp(zi-c)\n",
    "            sum_exp_zi = np.sum(exp_zi)\n",
    "            yi = exp_zi / sum_exp_zi\n",
    "            y.append(yi)\n",
    "\n",
    "        return np.array(y)\n",
    "    \n",
    "    def backward(p, y) :\n",
    "        dp = p.copy()\n",
    "        for dpi, yi in zip(dp, y):\n",
    "            for k in range(dp.shape[1]):\n",
    "                if k == yi :\n",
    "                    dpi[k] -= 1\n",
    "        return dp"
   ]
  },
  {
   "cell_type": "markdown",
   "metadata": {},
   "source": [
    "## Loss Function"
   ]
  },
  {
   "cell_type": "code",
   "execution_count": 7,
   "metadata": {},
   "outputs": [],
   "source": [
    "def cross_entropy(p, y):\n",
    "    loss = []\n",
    "    for pi, yi in zip(p, y):\n",
    "        for k in range(p.shape[1]):\n",
    "            if k == yi:\n",
    "                loss.append((-1) * (np.log(pi[k] + 1e-8))) \n",
    "    return loss"
   ]
  },
  {
   "cell_type": "markdown",
   "metadata": {},
   "source": [
    "## Layer"
   ]
  },
  {
   "cell_type": "code",
   "execution_count": 8,
   "metadata": {},
   "outputs": [],
   "source": [
    "class Layer:\n",
    "    def __init__(self, input_size, output_size, std=1e-4) :\n",
    "        self.input_size = input_size\n",
    "        self.output_size = output_size\n",
    "        self.bias = np.random.randn(output_size)\n",
    "        self.weight = np.random.randn(input_size, output_size)*std"
   ]
  },
  {
   "cell_type": "markdown",
   "metadata": {},
   "source": [
    "## Neural Network\n",
    "- 각 메소드와 변수들의 역할을 주석으로 달아주세요! "
   ]
  },
  {
   "cell_type": "code",
   "execution_count": 9,
   "metadata": {},
   "outputs": [],
   "source": [
    "class CustomNet:\n",
    "    # CustomNet을 선언할 때 생성되는 값들입니다.\n",
    "    def __init__(self, lr=0.0001, epoch=500, batch_size=200):\n",
    "        self.lr = lr\n",
    "         # 데이터셋에 대하여 모델이 학습을 반복할 횟수\n",
    "        self.epoch = epoch  \n",
    "         # 모델이 학습하고 가중치를 업데이트하는 데이터 사이즈 \n",
    "        self.batch_size = batch_size\n",
    "        \n",
    "        self.loss_function = cross_entropy \n",
    "        # Layer를 담고있는 배열\n",
    "        self.layers = []\n",
    "        # 활성화 함수를 담고있는 배열\n",
    "        self.activations = [softmax]\n",
    "        # 레이어의 노드의 수에 대한 정보\n",
    "        self.nodes = []\n",
    "    \n",
    "    # Layer를 추가할 때 호출합니다\n",
    "    def addLayer(self, Layer): \n",
    "        self.layers.append(Layer) \n",
    "        if not self.nodes: \n",
    "            self.nodes.append(np.zeros(Layer.input_size))\n",
    "        self.nodes.append(np.zeros(Layer.output_size)) # output 노드들의 수를 추가해가며 Layer의 노드 수를 담는다\n",
    "        \n",
    "    # Activation Function을 추가할 때 호출합니다\n",
    "    def addActivation(self, Activation):\n",
    "        tmp = self.activations.pop()  # 가장 뒷 단에 있는 활성 함수를 추출한다(이 경우 Softmax)\n",
    "        self.activations.append(Activation) # 추가한 활성함수를 추가한다\n",
    "        self.activations.append(tmp) \n",
    "        \n",
    "    # 순전파 함수\n",
    "    def _forward(self, X):\n",
    "        self.nodes[0] = X.copy() # 입력받은 X로 첫번째 노드를 초기화한다\n",
    "        output = X.copy() \n",
    "        for i in range(len(self.layers)): \n",
    "            Layer = self.layers[i]  # 반복에 사용할 개별 레이어 지정\n",
    "            Activation = self.activations[i]  # 레이어별 활성화 함수 지정\n",
    "            output = np.dot(self.nodes[i], Layer.weight) # 노드의 값과 가중치를 행렬곱해서 결괏값 산출\n",
    "            output = output+ Layer.bias \n",
    "            output = Activation.forward(output) \n",
    "            self.nodes[i+1] = output  # 다음번 노드의 결괏값으로 초기화\n",
    "        return output   \n",
    "    \n",
    "    # 역전파 함수\n",
    "    def _backward(self, X, output, y) :\n",
    "        for i in reversed(range(len(self.layers))): # layer의 길이의 반대순으로 실행\n",
    "            a = self.nodes[i+1] \n",
    "            Layer = self.layers[i] \n",
    "            Activation = self.activations[i] \n",
    "            # 은닉층별로 error를 계산\n",
    "            if i+1 == len(self.layers): \n",
    "                error = Activation.backward(output, y)\n",
    "            else:\n",
    "                error *= Activation.backward(a)\n",
    "            Layer.weight -= np.dot(error.T, self.nodes[i]).T*self.lr/X.shape[0] # 에러와 값과 learingrate를 이용해 가중치 업데이트\n",
    "            Layer.bias -= error.sum(axis=0)*self.lr/X.shape[0]\n",
    "            error = np.dot(error, Layer.weight.T) \n",
    "            \n",
    "    # Accrucy를 반환합니다\n",
    "    def _accuracy(self, output, y):\n",
    "        pre_p = np.argmax(output, axis=1)\n",
    "        return np.sum(pre_p==y)/y.shape[0] \n",
    "    \n",
    "    # 데이터셋에 모델을 fit할때 호출합니다\n",
    "    def fit(self, X, y, val_X, val_y):\n",
    "        history = {'val_acc': [],'val_loss': []}\n",
    "        N = X.shape[0]\n",
    "        for i in range(self.epoch):  # epoch 수 만큼 실행\n",
    "            for j in range(N//self.batch_size):  # mini batch 크기만큼 진행\n",
    "                batch_mask = np.random.choice(N, self.batch_size)\n",
    "                X_batch = X[batch_mask] \n",
    "                y_batch = y[batch_mask] \n",
    "                output = self._forward(X_batch) \n",
    "                self._backward(X_batch, output, y_batch)\n",
    "            \n",
    "            #accuracy와 loss를 기록해둡시다\n",
    "            output = self._forward(val_X) \n",
    "            history[\"val_acc\"].append(self._accuracy(output, val_y)) \n",
    "            history[\"val_loss\"].append(sum(self.loss_function(output, val_y))) \n",
    "            \n",
    "            #중간중간 기록을 찍어볼 때 사용. 적절히 조절해 쓰세요\n",
    "            if i % 10 == 0:\n",
    "                print(i, \"test accuracy :\", history[\"val_acc\"][-1])\n",
    "                print(i, \"test loss     :\", history[\"val_loss\"][-1])\n",
    "        return history"
   ]
  },
  {
   "cell_type": "code",
   "execution_count": null,
   "metadata": {},
   "outputs": [],
   "source": []
  },
  {
   "cell_type": "code",
   "execution_count": null,
   "metadata": {},
   "outputs": [],
   "source": []
  },
  {
   "cell_type": "markdown",
   "metadata": {},
   "source": [
    "## Customizing\n",
    "- Network parameter, Layer architecture, Activation function .. 등등 다양한 하이퍼파라미터를 커스터마이징하여 높은 성능에 도달해 봅시다! "
   ]
  },
  {
   "cell_type": "code",
   "execution_count": 10,
   "metadata": {},
   "outputs": [],
   "source": [
    "# 하이퍼파라미터를 적절히 조절해 뉴럴넷을 선언하세요\n",
    "nn = CustomNet(lr=0.005, epoch=200, batch_size=400)\n",
    "\n",
    "# 원하는 만큼 층과 활성화 함수를 쌓아 주세요. 기본적으로 2Layer를 예시로 적어드립니다\n",
    "nn.addLayer(Layer(784,100))\n",
    "nn.addActivation(sigmoid)\n",
    "nn.addLayer(Layer(100,10))"
   ]
  },
  {
   "cell_type": "code",
   "execution_count": 11,
   "metadata": {},
   "outputs": [
    {
     "name": "stdout",
     "output_type": "stream",
     "text": [
      "(784, 100) (100,)\n",
      "(100, 10) (10,)\n"
     ]
    }
   ],
   "source": [
    "# 선언한 뉴럴넷의 구조입니다\n",
    "for layer in nn.layers:\n",
    "    print(layer.weight.shape, layer.bias.shape)"
   ]
  },
  {
   "cell_type": "code",
   "execution_count": 12,
   "metadata": {},
   "outputs": [
    {
     "name": "stdout",
     "output_type": "stream",
     "text": [
      "0 test accuracy : 0.098\n",
      "0 test loss     : 23136.86248492996\n",
      "10 test accuracy : 0.114\n",
      "10 test loss     : 22738.175735771565\n",
      "20 test accuracy : 0.1311\n",
      "20 test loss     : 22329.32209892325\n",
      "30 test accuracy : 0.2325\n",
      "30 test loss     : 21526.29653169128\n",
      "40 test accuracy : 0.2662\n",
      "40 test loss     : 20276.778378053743\n",
      "50 test accuracy : 0.3464\n",
      "50 test loss     : 18998.02543826738\n",
      "60 test accuracy : 0.4258\n",
      "60 test loss     : 17551.90923923011\n",
      "70 test accuracy : 0.4976\n",
      "70 test loss     : 15523.772205645011\n",
      "80 test accuracy : 0.5434\n",
      "80 test loss     : 13708.892892747896\n",
      "90 test accuracy : 0.597\n",
      "90 test loss     : 12302.380887691623\n",
      "100 test accuracy : 0.6635\n",
      "100 test loss     : 10987.419705969709\n",
      "110 test accuracy : 0.7129\n",
      "110 test loss     : 9774.753678149082\n",
      "120 test accuracy : 0.7595\n",
      "120 test loss     : 8736.280070905617\n",
      "130 test accuracy : 0.7872\n",
      "130 test loss     : 7869.7936651533755\n",
      "140 test accuracy : 0.8128\n",
      "140 test loss     : 7145.418718571724\n",
      "150 test accuracy : 0.8299\n",
      "150 test loss     : 6547.823172047885\n",
      "160 test accuracy : 0.8426\n",
      "160 test loss     : 6063.854665760663\n",
      "170 test accuracy : 0.8492\n",
      "170 test loss     : 5672.488243642022\n",
      "180 test accuracy : 0.8553\n",
      "180 test loss     : 5352.587945919035\n",
      "190 test accuracy : 0.8624\n",
      "190 test loss     : 5085.450623043134\n"
     ]
    }
   ],
   "source": [
    "history = nn.fit(X_train, Y_train, X_test, Y_test)"
   ]
  },
  {
   "cell_type": "code",
   "execution_count": null,
   "metadata": {},
   "outputs": [],
   "source": []
  },
  {
   "cell_type": "code",
   "execution_count": null,
   "metadata": {},
   "outputs": [],
   "source": []
  },
  {
   "cell_type": "markdown",
   "metadata": {},
   "source": [
    "## Accuracy, Loss Visualization\n",
    "- 자유롭게 Accuracy나 Loss를 시각화하여 확인하고 결과를 확인해 보세요! "
   ]
  },
  {
   "cell_type": "code",
   "execution_count": null,
   "metadata": {},
   "outputs": [],
   "source": [
    "\n"
   ]
  },
  {
   "cell_type": "code",
   "execution_count": null,
   "metadata": {},
   "outputs": [],
   "source": []
  },
  {
   "cell_type": "code",
   "execution_count": null,
   "metadata": {},
   "outputs": [],
   "source": []
  }
 ],
 "metadata": {
  "kernelspec": {
   "display_name": "Python 3",
   "language": "python",
   "name": "python3"
  },
  "language_info": {
   "codemirror_mode": {
    "name": "ipython",
    "version": 3
   },
   "file_extension": ".py",
   "mimetype": "text/x-python",
   "name": "python",
   "nbconvert_exporter": "python",
   "pygments_lexer": "ipython3",
   "version": "3.8.5"
  }
 },
 "nbformat": 4,
 "nbformat_minor": 5
}
